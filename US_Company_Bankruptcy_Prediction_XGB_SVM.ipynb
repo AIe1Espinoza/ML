{
  "nbformat": 4,
  "nbformat_minor": 0,
  "metadata": {
    "colab": {
      "provenance": []
    },
    "kernelspec": {
      "name": "python3",
      "display_name": "Python 3"
    },
    "language_info": {
      "name": "python"
    }
  },
  "cells": [
    {
      "cell_type": "code",
      "execution_count": null,
      "metadata": {
        "id": "KEVsNXtFQ2bn"
      },
      "outputs": [],
      "source": [
        "import pandas as pd\n",
        "import numpy as np\n",
        "import matplotlib.pyplot as plt\n",
        "import seaborn as sns\n",
        "import warnings\n",
        "warnings.filterwarnings('ignore')"
      ]
    },
    {
      "cell_type": "code",
      "source": [
        "df = pd.read_csv('/content/american_bankruptcy.csv', sep=',')"
      ],
      "metadata": {
        "id": "GWHSTFjhS_pX"
      },
      "execution_count": null,
      "outputs": []
    },
    {
      "cell_type": "code",
      "source": [
        "df.info()"
      ],
      "metadata": {
        "colab": {
          "base_uri": "https://localhost:8080/"
        },
        "id": "IV5TRV_1TLKY",
        "outputId": "066ac3ac-275a-4f54-f72d-2670c1941ed2"
      },
      "execution_count": null,
      "outputs": [
        {
          "output_type": "stream",
          "name": "stdout",
          "text": [
            "<class 'pandas.core.frame.DataFrame'>\n",
            "RangeIndex: 78682 entries, 0 to 78681\n",
            "Data columns (total 21 columns):\n",
            " #   Column        Non-Null Count  Dtype  \n",
            "---  ------        --------------  -----  \n",
            " 0   company_name  78682 non-null  object \n",
            " 1   status_label  78682 non-null  object \n",
            " 2   year          78682 non-null  int64  \n",
            " 3   X1            78682 non-null  float64\n",
            " 4   X2            78682 non-null  float64\n",
            " 5   X3            78682 non-null  float64\n",
            " 6   X4            78682 non-null  float64\n",
            " 7   X5            78682 non-null  float64\n",
            " 8   X6            78682 non-null  float64\n",
            " 9   X7            78682 non-null  float64\n",
            " 10  X8            78682 non-null  float64\n",
            " 11  X9            78682 non-null  float64\n",
            " 12  X10           78682 non-null  float64\n",
            " 13  X11           78682 non-null  float64\n",
            " 14  X12           78682 non-null  float64\n",
            " 15  X13           78682 non-null  float64\n",
            " 16  X14           78682 non-null  float64\n",
            " 17  X15           78682 non-null  float64\n",
            " 18  X16           78682 non-null  float64\n",
            " 19  X17           78682 non-null  float64\n",
            " 20  X18           78682 non-null  float64\n",
            "dtypes: float64(18), int64(1), object(2)\n",
            "memory usage: 12.6+ MB\n"
          ]
        }
      ]
    },
    {
      "cell_type": "code",
      "source": [
        "# Check null\n",
        "df.isnull().sum()"
      ],
      "metadata": {
        "colab": {
          "base_uri": "https://localhost:8080/"
        },
        "id": "pjnJbWyCUaWe",
        "outputId": "187231e9-69eb-47c2-a6bd-9b703eaea730"
      },
      "execution_count": null,
      "outputs": [
        {
          "output_type": "execute_result",
          "data": {
            "text/plain": [
              "company_name    0\n",
              "status_label    0\n",
              "year            0\n",
              "X1              0\n",
              "X2              0\n",
              "X3              0\n",
              "X4              0\n",
              "X5              0\n",
              "X6              0\n",
              "X7              0\n",
              "X8              0\n",
              "X9              0\n",
              "X10             0\n",
              "X11             0\n",
              "X12             0\n",
              "X13             0\n",
              "X14             0\n",
              "X15             0\n",
              "X16             0\n",
              "X17             0\n",
              "X18             0\n",
              "dtype: int64"
            ]
          },
          "metadata": {},
          "execution_count": 4
        }
      ]
    },
    {
      "cell_type": "markdown",
      "source": [
        "## Some data adjust"
      ],
      "metadata": {
        "id": "3oBXv5rMUylv"
      }
    },
    {
      "cell_type": "code",
      "source": [
        "# Delete company_name column\n",
        "df = df.drop(columns=['company_name'], axis=1)\n",
        "\n",
        "# Rename \"X\" columns\n",
        "df.rename(columns={\n",
        "    'X1':'current_assets',\n",
        "    'X2':'cost_of_goods_sold',\n",
        "    'X3':'depreciation _and_amortization',\n",
        "    'X4':'ebitda',\n",
        "    'X5':'inventory',\n",
        "    'X6':'net_income',\n",
        "    'X7':'total_receivables',\n",
        "    'X8':'market_value',\n",
        "    'X9':'net_sales',\n",
        "    'X10':'total_assets',\n",
        "    'X11':'total_long_term_debt',\n",
        "    'X12':'ebit',\n",
        "    'X13':'gross_profit',\n",
        "    'X14':'total_current_liabilities',\n",
        "    'X15':'retained_earnings',\n",
        "    'X16':'total_revenue',\n",
        "    'X17':'total_liabilities',\n",
        "    'X18':'total_operating_expenses'}, inplace = True)\n",
        "\n",
        "# Recode and rename target\n",
        "df['status_label'] = df['status_label'].apply(lambda x : 0 if x == 'alive' else 1)\n",
        "df = df.rename(columns={'status_label':'bankruptcy'})"
      ],
      "metadata": {
        "id": "xrr3iEChTXG8"
      },
      "execution_count": null,
      "outputs": []
    },
    {
      "cell_type": "code",
      "source": [
        "df.columns"
      ],
      "metadata": {
        "colab": {
          "base_uri": "https://localhost:8080/"
        },
        "id": "Dy9MgwcMULi-",
        "outputId": "6817b98a-79e5-4e76-cbd6-30d97999006c"
      },
      "execution_count": null,
      "outputs": [
        {
          "output_type": "execute_result",
          "data": {
            "text/plain": [
              "Index(['bankruptcy', 'year', 'current_assets', 'cost_of_goods_sold',\n",
              "       'depreciation _and_amortization', 'ebitda', 'inventory', 'net_income',\n",
              "       'total_receivables', 'market_value', 'net_sales', 'total_assets',\n",
              "       'total_long_term_debt', 'ebit', 'gross_profit',\n",
              "       'total_current_liabilities', 'retained_earnings', 'total_revenue',\n",
              "       'total_liabilities', 'total_operating_expenses'],\n",
              "      dtype='object')"
            ]
          },
          "metadata": {},
          "execution_count": 6
        }
      ]
    },
    {
      "cell_type": "markdown",
      "source": [
        "## Create new features"
      ],
      "metadata": {
        "id": "Oq92ZKdOUmQ4"
      }
    },
    {
      "cell_type": "code",
      "source": [
        "df['equity'] = df['total_assets']-df['total_liabilities']"
      ],
      "metadata": {
        "id": "D7z3kQz5UPKG"
      },
      "execution_count": null,
      "outputs": []
    },
    {
      "cell_type": "code",
      "source": [
        "## Create financial ratios\n",
        "df['current_ratio'] = df['current_assets']/df['total_current_liabilities']\n",
        "df['net_margin'] = df['net_income']/df['total_revenue']\n",
        "df['gross_margin'] = df['gross_profit']/df['total_revenue']\n",
        "df['ebit_margin'] = df['ebit']/df['total_revenue']\n",
        "df['ebitda_margin'] = df['ebitda']/df['total_revenue']\n",
        "df['liabilities_to_assets'] = df['total_liabilities']/df['total_assets']\n",
        "df['debt_to_assets'] = df['total_long_term_debt']/df['total_assets']\n",
        "df['debt_to_equity'] = df['total_long_term_debt']/df['equity']\n",
        "df['debt_to_liabilities'] = df['total_long_term_debt']/df['total_liabilities']\n",
        "df['roa'] = df['net_income']/df['total_assets']\n",
        "df['roe'] = df['net_income']/df['equity']"
      ],
      "metadata": {
        "id": "2WcmCvMTUwvY"
      },
      "execution_count": null,
      "outputs": []
    },
    {
      "cell_type": "code",
      "source": [
        "df.info()"
      ],
      "metadata": {
        "colab": {
          "base_uri": "https://localhost:8080/"
        },
        "id": "QGgtYFKdVqq3",
        "outputId": "affb3dea-cd7a-44dc-87e0-00a4b6c06b87"
      },
      "execution_count": null,
      "outputs": [
        {
          "output_type": "stream",
          "name": "stdout",
          "text": [
            "<class 'pandas.core.frame.DataFrame'>\n",
            "RangeIndex: 78682 entries, 0 to 78681\n",
            "Data columns (total 32 columns):\n",
            " #   Column                          Non-Null Count  Dtype  \n",
            "---  ------                          --------------  -----  \n",
            " 0   bankruptcy                      78682 non-null  int64  \n",
            " 1   year                            78682 non-null  int64  \n",
            " 2   current_assets                  78682 non-null  float64\n",
            " 3   cost_of_goods_sold              78682 non-null  float64\n",
            " 4   depreciation _and_amortization  78682 non-null  float64\n",
            " 5   ebitda                          78682 non-null  float64\n",
            " 6   inventory                       78682 non-null  float64\n",
            " 7   net_income                      78682 non-null  float64\n",
            " 8   total_receivables               78682 non-null  float64\n",
            " 9   market_value                    78682 non-null  float64\n",
            " 10  net_sales                       78682 non-null  float64\n",
            " 11  total_assets                    78682 non-null  float64\n",
            " 12  total_long_term_debt            78682 non-null  float64\n",
            " 13  ebit                            78682 non-null  float64\n",
            " 14  gross_profit                    78682 non-null  float64\n",
            " 15  total_current_liabilities       78682 non-null  float64\n",
            " 16  retained_earnings               78682 non-null  float64\n",
            " 17  total_revenue                   78682 non-null  float64\n",
            " 18  total_liabilities               78682 non-null  float64\n",
            " 19  total_operating_expenses        78682 non-null  float64\n",
            " 20  equity                          78682 non-null  float64\n",
            " 21  current_ratio                   78682 non-null  float64\n",
            " 22  net_margin                      78682 non-null  float64\n",
            " 23  gross_margin                    78682 non-null  float64\n",
            " 24  ebit_margin                     78682 non-null  float64\n",
            " 25  ebitda_margin                   78682 non-null  float64\n",
            " 26  liabilities_to_assets           78682 non-null  float64\n",
            " 27  debt_to_assets                  78682 non-null  float64\n",
            " 28  debt_to_equity                  78682 non-null  float64\n",
            " 29  debt_to_liabilities             78682 non-null  float64\n",
            " 30  roa                             78682 non-null  float64\n",
            " 31  roe                             78682 non-null  float64\n",
            "dtypes: float64(30), int64(2)\n",
            "memory usage: 19.2 MB\n"
          ]
        }
      ]
    },
    {
      "cell_type": "code",
      "source": [
        "# Keep only features created (ratios)\n",
        "df = df.drop(df.columns[1:21], axis=1)"
      ],
      "metadata": {
        "id": "jesC4euYVv1e"
      },
      "execution_count": null,
      "outputs": []
    },
    {
      "cell_type": "markdown",
      "source": [
        "## Exploratory data analysis"
      ],
      "metadata": {
        "id": "mfVI3fTjWF6m"
      }
    },
    {
      "cell_type": "code",
      "source": [
        "df.shape"
      ],
      "metadata": {
        "colab": {
          "base_uri": "https://localhost:8080/"
        },
        "id": "Sb1BsmaGWu2T",
        "outputId": "a3081bb9-6720-4a76-f1c3-c117a54e6f43"
      },
      "execution_count": null,
      "outputs": [
        {
          "output_type": "execute_result",
          "data": {
            "text/plain": [
              "(78682, 12)"
            ]
          },
          "metadata": {},
          "execution_count": 11
        }
      ]
    },
    {
      "cell_type": "code",
      "source": [
        "df.columns"
      ],
      "metadata": {
        "colab": {
          "base_uri": "https://localhost:8080/"
        },
        "id": "oSEeQ7O2WVx_",
        "outputId": "6308df11-1931-41ac-ffc2-0fd13e1f4620"
      },
      "execution_count": null,
      "outputs": [
        {
          "output_type": "execute_result",
          "data": {
            "text/plain": [
              "Index(['bankruptcy', 'current_ratio', 'net_margin', 'gross_margin',\n",
              "       'ebit_margin', 'ebitda_margin', 'liabilities_to_assets',\n",
              "       'debt_to_assets', 'debt_to_equity', 'debt_to_liabilities', 'roa',\n",
              "       'roe'],\n",
              "      dtype='object')"
            ]
          },
          "metadata": {},
          "execution_count": 12
        }
      ]
    },
    {
      "cell_type": "code",
      "source": [
        "## Target distribution\n",
        "print(df['bankruptcy'].value_counts())\n",
        "print('')\n",
        "print(df['bankruptcy'].value_counts(normalize=True))\n",
        "print('')\n",
        "\n",
        "# Plot target distribution\n",
        "df.groupby('bankruptcy').size().plot(kind='pie',\n",
        "                                     autopct='%.1f%%',\n",
        "                                     fontsize=13,\n",
        "                                     colors=['skyblue', 'tomato'])\n",
        "\n",
        "plt.title('Distribution bankruptcy', size=20)\n",
        "plt.tight_layout()\n",
        "plt.show()"
      ],
      "metadata": {
        "colab": {
          "base_uri": "https://localhost:8080/",
          "height": 661
        },
        "id": "WppWLPIoV7A0",
        "outputId": "035e8181-8e7a-4e33-8e43-62554e6bd1d4"
      },
      "execution_count": null,
      "outputs": [
        {
          "output_type": "stream",
          "name": "stdout",
          "text": [
            "bankruptcy\n",
            "0    73462\n",
            "1     5220\n",
            "Name: count, dtype: int64\n",
            "\n",
            "bankruptcy\n",
            "0    0.933657\n",
            "1    0.066343\n",
            "Name: proportion, dtype: float64\n",
            "\n"
          ]
        },
        {
          "output_type": "display_data",
          "data": {
            "text/plain": [
              "<Figure size 640x480 with 1 Axes>"
            ],
            "image/png": "[encoded data removed]"
          },
          "metadata": {}
        }
      ]
    },
    {
      "cell_type": "markdown",
      "source": [
        "Comments:\n",
        "- Dataset presents an imbalance labels, as observed in our target, only 6.6% of the occasions correspond to 1 (bankruptcy)."
      ],
      "metadata": {
        "id": "zWM0Y_M_hnkv"
      }
    },
    {
      "cell_type": "code",
      "source": [
        "df.describe().T"
      ],
      "metadata": {
        "colab": {
          "base_uri": "https://localhost:8080/",
          "height": 426
        },
        "id": "DQEXoQOfWUez",
        "outputId": "7812e8dd-fba4-41eb-b62d-d313dbc74ae0"
      },
      "execution_count": null,
      "outputs": [
        {
          "output_type": "execute_result",
          "data": {
            "text/plain": [
              "                         count       mean         std           min       25%  \\\n",
              "bankruptcy             78682.0   0.066343    0.248882  0.000000e+00  0.000000   \n",
              "current_ratio          78682.0   3.491616   88.748428 -1.272131e+01  1.158053   \n",
              "net_margin             78682.0 -11.483463  279.732025 -3.254500e+04 -0.174473   \n",
              "gross_margin           78682.0  -6.320313  208.696267 -2.932570e+04  0.201613   \n",
              "ebit_margin            78682.0  -9.049968  219.541139 -3.017570e+04 -0.108286   \n",
              "ebitda_margin          78682.0  -8.676250  214.708115 -2.932570e+04 -0.044176   \n",
              "liabilities_to_assets  78682.0   1.923343   46.441906  4.051864e-05  0.302422   \n",
              "debt_to_assets         78682.0   0.266361   11.829246 -3.490137e-02  0.000000   \n",
              "debt_to_equity         78682.0        inf         NaN -1.950500e+03  0.000000   \n",
              "debt_to_liabilities    78682.0   0.269842    0.267201 -2.179682e-03  0.000000   \n",
              "roa                    78682.0  -0.690219   13.653514 -1.515000e+03 -0.140486   \n",
              "roe                    78682.0       -inf         NaN          -inf -0.144193   \n",
              "\n",
              "                            50%       75%           max  \n",
              "bankruptcy             0.000000  0.000000  1.000000e+00  \n",
              "current_ratio          1.897068  3.193725  2.410800e+04  \n",
              "net_margin             0.015439  0.070352  1.542565e+03  \n",
              "gross_margin           0.349857  0.539486  3.582105e+02  \n",
              "ebit_margin            0.042613  0.116947  3.944737e+02  \n",
              "ebitda_margin          0.081687  0.171586  3.582105e+02  \n",
              "liabilities_to_assets  0.507032  0.710560  6.324000e+03  \n",
              "debt_to_assets         0.101972  0.289877  3.287000e+03  \n",
              "debt_to_equity         0.101397  0.606637           inf  \n",
              "debt_to_liabilities    0.216134  0.487664  1.191895e+00  \n",
              "roa                    0.017422  0.066491  2.448333e+02  \n",
              "roe                    0.065607  0.166289  7.770333e+03  "
            ],
            "text/html": [
              "\n",
              "  <div id=\"df-d03b6bc5-8b62-477b-a30d-37973577998e\" class=\"colab-df-container\">\n",
              "    <div>\n",
              "<style scoped>\n",
              "    .dataframe tbody tr th:only-of-type {\n",
              "        vertical-align: middle;\n",
              "    }\n",
              "\n",
              "    .dataframe tbody tr th {\n",
              "        vertical-align: top;\n",
              "    }\n",
              "\n",
              "    .dataframe thead th {\n",
              "        text-align: right;\n",
              "    }\n",
              "</style>\n",
              "<table border=\"1\" class=\"dataframe\">\n",
              "  <thead>\n",
              "    <tr style=\"text-align: right;\">\n",
              "      <th></th>\n",
              "      <th>count</th>\n",
              "      <th>mean</th>\n",
              "      <th>std</th>\n",
              "      <th>min</th>\n",
              "      <th>25%</th>\n",
              "      <th>50%</th>\n",
              "      <th>75%</th>\n",
              "      <th>max</th>\n",
              "    </tr>\n",
              "  </thead>\n",
              "  <tbody>\n",
              "    <tr>\n",
              "      <th>bankruptcy</th>\n",
              "      <td>78682.0</td>\n",
              "      <td>0.066343</td>\n",
              "      <td>0.248882</td>\n",
              "      <td>0.000000e+00</td>\n",
              "      <td>0.000000</td>\n",
              "      <td>0.000000</td>\n",
              "      <td>0.000000</td>\n",
              "      <td>1.000000e+00</td>\n",
              "    </tr>\n",
              "    <tr>\n",
              "      <th>current_ratio</th>\n",
              "      <td>78682.0</td>\n",
              "      <td>3.491616</td>\n",
              "      <td>88.748428</td>\n",
              "      <td>-1.272131e+01</td>\n",
              "      <td>1.158053</td>\n",
              "      <td>1.897068</td>\n",
              "      <td>3.193725</td>\n",
              "      <td>2.410800e+04</td>\n",
              "    </tr>\n",
              "    <tr>\n",
              "      <th>net_margin</th>\n",
              "      <td>78682.0</td>\n",
              "      <td>-11.483463</td>\n",
              "      <td>279.732025</td>\n",
              "      <td>-3.254500e+04</td>\n",
              "      <td>-0.174473</td>\n",
              "      <td>0.015439</td>\n",
              "      <td>0.070352</td>\n",
              "      <td>1.542565e+03</td>\n",
              "    </tr>\n",
              "    <tr>\n",
              "      <th>gross_margin</th>\n",
              "      <td>78682.0</td>\n",
              "      <td>-6.320313</td>\n",
              "      <td>208.696267</td>\n",
              "      <td>-2.932570e+04</td>\n",
              "      <td>0.201613</td>\n",
              "      <td>0.349857</td>\n",
              "      <td>0.539486</td>\n",
              "      <td>3.582105e+02</td>\n",
              "    </tr>\n",
              "    <tr>\n",
              "      <th>ebit_margin</th>\n",
              "      <td>78682.0</td>\n",
              "      <td>-9.049968</td>\n",
              "      <td>219.541139</td>\n",
              "      <td>-3.017570e+04</td>\n",
              "      <td>-0.108286</td>\n",
              "      <td>0.042613</td>\n",
              "      <td>0.116947</td>\n",
              "      <td>3.944737e+02</td>\n",
              "    </tr>\n",
              "    <tr>\n",
              "      <th>ebitda_margin</th>\n",
              "      <td>78682.0</td>\n",
              "      <td>-8.676250</td>\n",
              "      <td>214.708115</td>\n",
              "      <td>-2.932570e+04</td>\n",
              "      <td>-0.044176</td>\n",
              "      <td>0.081687</td>\n",
              "      <td>0.171586</td>\n",
              "      <td>3.582105e+02</td>\n",
              "    </tr>\n",
              "    <tr>\n",
              "      <th>liabilities_to_assets</th>\n",
              "      <td>78682.0</td>\n",
              "      <td>1.923343</td>\n",
              "      <td>46.441906</td>\n",
              "      <td>4.051864e-05</td>\n",
              "      <td>0.302422</td>\n",
              "      <td>0.507032</td>\n",
              "      <td>0.710560</td>\n",
              "      <td>6.324000e+03</td>\n",
              "    </tr>\n",
              "    <tr>\n",
              "      <th>debt_to_assets</th>\n",
              "      <td>78682.0</td>\n",
              "      <td>0.266361</td>\n",
              "      <td>11.829246</td>\n",
              "      <td>-3.490137e-02</td>\n",
              "      <td>0.000000</td>\n",
              "      <td>0.101972</td>\n",
              "      <td>0.289877</td>\n",
              "      <td>3.287000e+03</td>\n",
              "    </tr>\n",
              "    <tr>\n",
              "      <th>debt_to_equity</th>\n",
              "      <td>78682.0</td>\n",
              "      <td>inf</td>\n",
              "      <td>NaN</td>\n",
              "      <td>-1.950500e+03</td>\n",
              "      <td>0.000000</td>\n",
              "      <td>0.101397</td>\n",
              "      <td>0.606637</td>\n",
              "      <td>inf</td>\n",
              "    </tr>\n",
              "    <tr>\n",
              "      <th>debt_to_liabilities</th>\n",
              "      <td>78682.0</td>\n",
              "      <td>0.269842</td>\n",
              "      <td>0.267201</td>\n",
              "      <td>-2.179682e-03</td>\n",
              "      <td>0.000000</td>\n",
              "      <td>0.216134</td>\n",
              "      <td>0.487664</td>\n",
              "      <td>1.191895e+00</td>\n",
              "    </tr>\n",
              "    <tr>\n",
              "      <th>roa</th>\n",
              "      <td>78682.0</td>\n",
              "      <td>-0.690219</td>\n",
              "      <td>13.653514</td>\n",
              "      <td>-1.515000e+03</td>\n",
              "      <td>-0.140486</td>\n",
              "      <td>0.017422</td>\n",
              "      <td>0.066491</td>\n",
              "      <td>2.448333e+02</td>\n",
              "    </tr>\n",
              "    <tr>\n",
              "      <th>roe</th>\n",
              "      <td>78682.0</td>\n",
              "      <td>-inf</td>\n",
              "      <td>NaN</td>\n",
              "      <td>-inf</td>\n",
              "      <td>-0.144193</td>\n",
              "      <td>0.065607</td>\n",
              "      <td>0.166289</td>\n",
              "      <td>7.770333e+03</td>\n",
              "    </tr>\n",
              "  </tbody>\n",
              "</table>\n",
              "</div>\n",
              "    <div class=\"colab-df-buttons\">\n",
              "\n",
              "  <div class=\"colab-df-container\">\n",
              "    <button class=\"colab-df-convert\" onclick=\"convertToInteractive('df-d03b6bc5-8b62-477b-a30d-37973577998e')\"\n",
              "            title=\"Convert this dataframe to an interactive table.\"\n",
              "            style=\"display:none;\">\n",
              "\n",
              "  <svg xmlns=\"http://www.w3.org/2000/svg\" height=\"24px\" viewBox=\"0 -960 960 960\">\n",
              "    <path d=\"M120-120v-720h720v720H120Zm60-500h600v-160H180v160Zm220 220h160v-160H400v160Zm0 220h160v-160H400v160ZM180-400h160v-160H180v160Zm440 0h160v-160H620v160ZM180-180h160v-160H180v160Zm440 0h160v-160H620v160Z\"/>\n",
              "  </svg>\n",
              "    </button>\n",
              "\n",
              "  <style>\n",
              "    .colab-df-container {\n",
              "      display:flex;\n",
              "      gap: 12px;\n",
              "    }\n",
              "\n",
              "    .colab-df-convert {\n",
              "      background-color: #E8F0FE;\n",
              "      border: none;\n",
              "      border-radius: 50%;\n",
              "      cursor: pointer;\n",
              "      display: none;\n",
              "      fill: #1967D2;\n",
              "      height: 32px;\n",
              "      padding: 0 0 0 0;\n",
              "      width: 32px;\n",
              "    }\n",
              "\n",
              "    .colab-df-convert:hover {\n",
              "      background-color: #E2EBFA;\n",
              "      box-shadow: 0px 1px 2px rgba(60, 64, 67, 0.3), 0px 1px 3px 1px rgba(60, 64, 67, 0.15);\n",
              "      fill: #174EA6;\n",
              "    }\n",
              "\n",
              "    .colab-df-buttons div {\n",
              "      margin-bottom: 4px;\n",
              "    }\n",
              "\n",
              "    [theme=dark] .colab-df-convert {\n",
              "      background-color: #3B4455;\n",
              "      fill: #D2E3FC;\n",
              "    }\n",
              "\n",
              "    [theme=dark] .colab-df-convert:hover {\n",
              "      background-color: #434B5C;\n",
              "      box-shadow: 0px 1px 3px 1px rgba(0, 0, 0, 0.15);\n",
              "      filter: drop-shadow(0px 1px 2px rgba(0, 0, 0, 0.3));\n",
              "      fill: #FFFFFF;\n",
              "    }\n",
              "  </style>\n",
              "\n",
              "    <script>\n",
              "      const buttonEl =\n",
              "        document.querySelector('#df-d03b6bc5-8b62-477b-a30d-37973577998e button.colab-df-convert');\n",
              "      buttonEl.style.display =\n",
              "        google.colab.kernel.accessAllowed ? 'block' : 'none';\n",
              "\n",
              "      async function convertToInteractive(key) {\n",
              "        const element = document.querySelector('#df-d03b6bc5-8b62-477b-a30d-37973577998e');\n",
              "        const dataTable =\n",
              "          await google.colab.kernel.invokeFunction('convertToInteractive',\n",
              "                                                    [key], {});\n",
              "        if (!dataTable) return;\n",
              "\n",
              "        const docLinkHtml = 'Like what you see? Visit the ' +\n",
              "          '<a target=\"_blank\" href=https://colab.research.google.com/notebooks/data_table.ipynb>data table notebook</a>'\n",
              "          + ' to learn more about interactive tables.';\n",
              "        element.innerHTML = '';\n",
              "        dataTable['output_type'] = 'display_data';\n",
              "        await google.colab.output.renderOutput(dataTable, element);\n",
              "        const docLink = document.createElement('div');\n",
              "        docLink.innerHTML = docLinkHtml;\n",
              "        element.appendChild(docLink);\n",
              "      }\n",
              "    </script>\n",
              "  </div>\n",
              "\n",
              "\n",
              "<div id=\"df-48d7c272-c7fb-45de-b0c7-3ff1fe44db59\">\n",
              "  <button class=\"colab-df-quickchart\" onclick=\"quickchart('df-48d7c272-c7fb-45de-b0c7-3ff1fe44db59')\"\n",
              "            title=\"Suggest charts\"\n",
              "            style=\"display:none;\">\n",
              "\n",
              "<svg xmlns=\"http://www.w3.org/2000/svg\" height=\"24px\"viewBox=\"0 0 24 24\"\n",
              "     width=\"24px\">\n",
              "    <g>\n",
              "        <path d=\"M19 3H5c-1.1 0-2 .9-2 2v14c0 1.1.9 2 2 2h14c1.1 0 2-.9 2-2V5c0-1.1-.9-2-2-2zM9 17H7v-7h2v7zm4 0h-2V7h2v10zm4 0h-2v-4h2v4z\"/>\n",
              "    </g>\n",
              "</svg>\n",
              "  </button>\n",
              "\n",
              "<style>\n",
              "  .colab-df-quickchart {\n",
              "      --bg-color: #E8F0FE;\n",
              "      --fill-color: #1967D2;\n",
              "      --hover-bg-color: #E2EBFA;\n",
              "      --hover-fill-color: #174EA6;\n",
              "      --disabled-fill-color: #AAA;\n",
              "      --disabled-bg-color: #DDD;\n",
              "  }\n",
              "\n",
              "  [theme=dark] .colab-df-quickchart {\n",
              "      --bg-color: #3B4455;\n",
              "      --fill-color: #D2E3FC;\n",
              "      --hover-bg-color: #434B5C;\n",
              "      --hover-fill-color: #FFFFFF;\n",
              "      --disabled-bg-color: #3B4455;\n",
              "      --disabled-fill-color: #666;\n",
              "  }\n",
              "\n",
              "  .colab-df-quickchart {\n",
              "    background-color: var(--bg-color);\n",
              "    border: none;\n",
              "    border-radius: 50%;\n",
              "    cursor: pointer;\n",
              "    display: none;\n",
              "    fill: var(--fill-color);\n",
              "    height: 32px;\n",
              "    padding: 0;\n",
              "    width: 32px;\n",
              "  }\n",
              "\n",
              "  .colab-df-quickchart:hover {\n",
              "    background-color: var(--hover-bg-color);\n",
              "    box-shadow: 0 1px 2px rgba(60, 64, 67, 0.3), 0 1px 3px 1px rgba(60, 64, 67, 0.15);\n",
              "    fill: var(--button-hover-fill-color);\n",
              "  }\n",
              "\n",
              "  .colab-df-quickchart-complete:disabled,\n",
              "  .colab-df-quickchart-complete:disabled:hover {\n",
              "    background-color: var(--disabled-bg-color);\n",
              "    fill: var(--disabled-fill-color);\n",
              "    box-shadow: none;\n",
              "  }\n",
              "\n",
              "  .colab-df-spinner {\n",
              "    border: 2px solid var(--fill-color);\n",
              "    border-color: transparent;\n",
              "    border-bottom-color: var(--fill-color);\n",
              "    animation:\n",
              "      spin 1s steps(1) infinite;\n",
              "  }\n",
              "\n",
              "  @keyframes spin {\n",
              "    0% {\n",
              "      border-color: transparent;\n",
              "      border-bottom-color: var(--fill-color);\n",
              "      border-left-color: var(--fill-color);\n",
              "    }\n",
              "    20% {\n",
              "      border-color: transparent;\n",
              "      border-left-color: var(--fill-color);\n",
              "      border-top-color: var(--fill-color);\n",
              "    }\n",
              "    30% {\n",
              "      border-color: transparent;\n",
              "      border-left-color: var(--fill-color);\n",
              "      border-top-color: var(--fill-color);\n",
              "      border-right-color: var(--fill-color);\n",
              "    }\n",
              "    40% {\n",
              "      border-color: transparent;\n",
              "      border-right-color: var(--fill-color);\n",
              "      border-top-color: var(--fill-color);\n",
              "    }\n",
              "    60% {\n",
              "      border-color: transparent;\n",
              "      border-right-color: var(--fill-color);\n",
              "    }\n",
              "    80% {\n",
              "      border-color: transparent;\n",
              "      border-right-color: var(--fill-color);\n",
              "      border-bottom-color: var(--fill-color);\n",
              "    }\n",
              "    90% {\n",
              "      border-color: transparent;\n",
              "      border-bottom-color: var(--fill-color);\n",
              "    }\n",
              "  }\n",
              "</style>\n",
              "\n",
              "  <script>\n",
              "    async function quickchart(key) {\n",
              "      const quickchartButtonEl =\n",
              "        document.querySelector('#' + key + ' button');\n",
              "      quickchartButtonEl.disabled = true;  // To prevent multiple clicks.\n",
              "      quickchartButtonEl.classList.add('colab-df-spinner');\n",
              "      try {\n",
              "        const charts = await google.colab.kernel.invokeFunction(\n",
              "            'suggestCharts', [key], {});\n",
              "      } catch (error) {\n",
              "        console.error('Error during call to suggestCharts:', error);\n",
              "      }\n",
              "      quickchartButtonEl.classList.remove('colab-df-spinner');\n",
              "      quickchartButtonEl.classList.add('colab-df-quickchart-complete');\n",
              "    }\n",
              "    (() => {\n",
              "      let quickchartButtonEl =\n",
              "        document.querySelector('#df-48d7c272-c7fb-45de-b0c7-3ff1fe44db59 button');\n",
              "      quickchartButtonEl.style.display =\n",
              "        google.colab.kernel.accessAllowed ? 'block' : 'none';\n",
              "    })();\n",
              "  </script>\n",
              "</div>\n",
              "\n",
              "    </div>\n",
              "  </div>\n"
            ],
            "application/vnd.google.colaboratory.intrinsic+json": {
              "type": "dataframe",
              "repr_error": "Out of range float values are not JSON compliant: -inf"
            }
          },
          "metadata": {},
          "execution_count": 14
        }
      ]
    },
    {
      "cell_type": "code",
      "source": [
        "# Replace inf values with NaN\n",
        "df.replace([np.inf, -np.inf], np.nan, inplace=True)\n",
        "\n",
        "# Delete rows with NaN\n",
        "df = df.dropna()"
      ],
      "metadata": {
        "id": "9b1UWiiKjpk_"
      },
      "execution_count": null,
      "outputs": []
    },
    {
      "cell_type": "code",
      "source": [
        "## Delete potencial outliers: create subsample\n",
        "# df = df[~((df[columns_out] < (Q1 - 1.5 * IQR)) | (df[columns_out] > (Q3 + 1.5 * IQR))).any(axis=1)]\n",
        "q5 = df.quantile(0.05)\n",
        "q95 = df.quantile(0.95)\n",
        "\n",
        "filter = (df >= q5) & (df <= q95)\n",
        "df_filt = df[filter]"
      ],
      "metadata": {
        "id": "NESnqU6jXVDT"
      },
      "execution_count": null,
      "outputs": []
    },
    {
      "cell_type": "code",
      "source": [
        "# Clean df_filt: delete NaN\n",
        "df_filt = df_filt.dropna()\n",
        "\n",
        "df.shape, df_filt.shape"
      ],
      "metadata": {
        "colab": {
          "base_uri": "https://localhost:8080/"
        },
        "id": "5pN9IjB7moDK",
        "outputId": "cb987db1-7fd8-4df0-b667-e4c168877a14"
      },
      "execution_count": null,
      "outputs": [
        {
          "output_type": "execute_result",
          "data": {
            "text/plain": [
              "((78680, 12), (48044, 12))"
            ]
          },
          "metadata": {},
          "execution_count": 17
        }
      ]
    },
    {
      "cell_type": "markdown",
      "source": [
        "Comments:\n",
        "- The traditional IQR was not used, by doing so the class imbalance was worsened, in fact there were no samples left where bankruptcy was present.\n",
        "- By eliminating values ​​within the .05 and .95 percentile, the class imbalance is accentuated, but I consider it to be an acceptable magnitude.\n",
        "- After eliminating outliers the samples fell from 78680 to 48044."
      ],
      "metadata": {
        "id": "BKpy1ponbC96"
      }
    },
    {
      "cell_type": "markdown",
      "source": [
        "## Split data + SMOTE"
      ],
      "metadata": {
        "id": "inYRAwmUf4Z2"
      }
    },
    {
      "cell_type": "code",
      "source": [
        "from sklearn.model_selection import train_test_split\n",
        "from imblearn.over_sampling import SMOTE\n",
        "from sklearn.preprocessing import MinMaxScaler"
      ],
      "metadata": {
        "id": "BWoLEcW6f7FB"
      },
      "execution_count": null,
      "outputs": []
    },
    {
      "cell_type": "code",
      "source": [
        "X = df.drop('bankruptcy', axis=1)\n",
        "y = df['bankruptcy']\n",
        "\n",
        "# Scaler X\n",
        "scaler = MinMaxScaler()\n",
        "Xsc= scaler.fit_transform(X)"
      ],
      "metadata": {
        "id": "Q74seZ5ff7Cf"
      },
      "execution_count": null,
      "outputs": []
    },
    {
      "cell_type": "code",
      "source": [
        "## Split data\n",
        "X_train, X_test, y_train, y_test = train_test_split(Xsc,\n",
        "                                                    y,\n",
        "                                                    test_size=0.3,\n",
        "                                                    random_state=123)"
      ],
      "metadata": {
        "id": "MUwf-4Mef7Ad"
      },
      "execution_count": null,
      "outputs": []
    },
    {
      "cell_type": "code",
      "source": [
        "## SMOTE\n",
        "smote = SMOTE(sampling_strategy=0.3, random_state=123)\n",
        "\n",
        "X_train_smote, y_train_smote = smote.fit_resample(X_train, y_train)"
      ],
      "metadata": {
        "id": "maZSCrH7F2gP"
      },
      "execution_count": null,
      "outputs": []
    },
    {
      "cell_type": "code",
      "source": [
        "print('Shape before SMOTE:')\n",
        "print(X_train.shape, y_train.shape)\n",
        "print('')\n",
        "print('Shape after SMOTE:')\n",
        "print(X_train_smote.shape, y_train_smote.shape)"
      ],
      "metadata": {
        "colab": {
          "base_uri": "https://localhost:8080/"
        },
        "id": "vSpqa-Q-HsLh",
        "outputId": "83a0c6bc-6f1c-4142-cef4-d5f99bdda7d4"
      },
      "execution_count": null,
      "outputs": [
        {
          "output_type": "stream",
          "name": "stdout",
          "text": [
            "Shape before SMOTE:\n",
            "(55076, 11) (55076,)\n",
            "\n",
            "Shape after SMOTE:\n",
            "(66838, 11) (66838,)\n"
          ]
        }
      ]
    },
    {
      "cell_type": "code",
      "source": [
        "print('y_train distribution before SMOTE:')\n",
        "print(y_train.value_counts(normalize=True)) # Before SMOTE\n",
        "print('')\n",
        "print('y_train distribution after SMOTE:')\n",
        "print(y_train_smote.value_counts(normalize=True)) # After SMOTE\n",
        "print('')\n",
        "\n",
        "## Plot\n",
        "y_train_dist_before = y_train.value_counts(normalize=True)\n",
        "y_train_dist_after = y_train_smote.value_counts(normalize=True)\n",
        "\n",
        "fig, axs = plt.subplots(1, 2, figsize=(10, 6))\n",
        "\n",
        "# Plot before SMOTE\n",
        "axs[0].pie(y_train_dist_before,\n",
        "           labels=y_train_dist_before.index,\n",
        "           autopct='%1.1f%%',\n",
        "           # startangle=90,\n",
        "           textprops={'fontsize':12},\n",
        "           colors=['skyblue', 'tomato'])\n",
        "axs[0].set_title('y_train before SMOTE', size=20)\n",
        "\n",
        "# Plot after SMOTE\n",
        "axs[1].pie(y_train_dist_after,\n",
        "           labels=y_train_dist_after.index,\n",
        "           autopct='%1.1f%%',\n",
        "           # startangle=90,\n",
        "           textprops={'fontsize':12},\n",
        "           colors=['skyblue', 'tomato'])\n",
        "axs[1].set_title('y_train after SMOTE', size=20)\n",
        "\n",
        "plt.tight_layout()\n",
        "plt.show()"
      ],
      "metadata": {
        "colab": {
          "base_uri": "https://localhost:8080/",
          "height": 752
        },
        "id": "VfAOaoG7GQi0",
        "outputId": "6e169170-6d40-4093-f530-72d2c2df81d8"
      },
      "execution_count": null,
      "outputs": [
        {
          "output_type": "stream",
          "name": "stdout",
          "text": [
            "y_train distribution before SMOTE:\n",
            "bankruptcy\n",
            "0    0.93351\n",
            "1    0.06649\n",
            "Name: proportion, dtype: float64\n",
            "\n",
            "y_train distribution after SMOTE:\n",
            "bankruptcy\n",
            "0    0.769233\n",
            "1    0.230767\n",
            "Name: proportion, dtype: float64\n",
            "\n"
          ]
        },
        {
          "output_type": "display_data",
          "data": {
            "text/plain": [
              "<Figure size 1000x600 with 2 Axes>"
            ],
            "image/png": "[encoded data removed]"
          },
          "metadata": {}
        }
      ]
    },
    {
      "cell_type": "markdown",
      "source": [
        "Comments:\n",
        "- The distribution of y_train (bankruptcy) before applying SMOTE was approximately 93%-6% (0-1). After synthetic examples, or oversamples, are created, the distribution of y_train (y_train_smote) is close to 77%-23% (0-1).\n",
        "- Remember that X is scaled."
      ],
      "metadata": {
        "id": "oJrTnqlPGaCp"
      }
    },
    {
      "cell_type": "markdown",
      "source": [
        "## Apply classification models\n",
        "- We will apply 2 models: SVM and XGBoost.\n",
        "- We will not apply cross validation, time issues."
      ],
      "metadata": {
        "id": "L8IPD6Z0GoK-"
      }
    },
    {
      "cell_type": "code",
      "source": [
        "from xgboost import XGBClassifier\n",
        "from sklearn.svm import SVC\n",
        "from sklearn.metrics import classification_report, confusion_matrix, ConfusionMatrixDisplay"
      ],
      "metadata": {
        "id": "aI874hxBG0xQ"
      },
      "execution_count": null,
      "outputs": []
    },
    {
      "cell_type": "code",
      "source": [
        "## XGBoost\n",
        "xgbCl = XGBClassifier(n_estimators=1500,\n",
        "                      learning_rate=0.5,\n",
        "                      max_depth=10,\n",
        "                      random_state=123)\n",
        "\n",
        "xgbCl.fit(X_train_smote, y_train_smote)"
      ],
      "metadata": {
        "colab": {
          "base_uri": "https://localhost:8080/",
          "height": 248
        },
        "id": "OZGrlEvgHPfN",
        "outputId": "9a9d8f1d-a600-4292-ba49-52517a9f0dd1"
      },
      "execution_count": null,
      "outputs": [
        {
          "output_type": "execute_result",
          "data": {
            "text/plain": [
              "XGBClassifier(base_score=None, booster=None, callbacks=None,\n",
              "              colsample_bylevel=None, colsample_bynode=None,\n",
              "              colsample_bytree=None, device=None, early_stopping_rounds=None,\n",
              "              enable_categorical=False, eval_metric=None, feature_types=None,\n",
              "              gamma=None, grow_policy=None, importance_type=None,\n",
              "              interaction_constraints=None, learning_rate=0.5, max_bin=None,\n",
              "              max_cat_threshold=None, max_cat_to_onehot=None,\n",
              "              max_delta_step=None, max_depth=10, max_leaves=None,\n",
              "              min_child_weight=None, missing=nan, monotone_constraints=None,\n",
              "              multi_strategy=None, n_estimators=1500, n_jobs=None,\n",
              "              num_parallel_tree=None, random_state=123, ...)"
            ],
            "text/html": [
              "<style>#sk-container-id-1 {color: black;background-color: white;}#sk-container-id-1 pre{padding: 0;}#sk-container-id-1 div.sk-toggleable {background-color: white;}#sk-container-id-1 label.sk-toggleable__label {cursor: pointer;display: block;width: 100%;margin-bottom: 0;padding: 0.3em;box-sizing: border-box;text-align: center;}#sk-container-id-1 label.sk-toggleable__label-arrow:before {content: \"▸\";float: left;margin-right: 0.25em;color: #696969;}#sk-container-id-1 label.sk-toggleable__label-arrow:hover:before {color: black;}#sk-container-id-1 div.sk-estimator:hover label.sk-toggleable__label-arrow:before {color: black;}#sk-container-id-1 div.sk-toggleable__content {max-height: 0;max-width: 0;overflow: hidden;text-align: left;background-color: #f0f8ff;}#sk-container-id-1 div.sk-toggleable__content pre {margin: 0.2em;color: black;border-radius: 0.25em;background-color: #f0f8ff;}#sk-container-id-1 input.sk-toggleable__control:checked~div.sk-toggleable__content {max-height: 200px;max-width: 100%;overflow: auto;}#sk-container-id-1 input.sk-toggleable__control:checked~label.sk-toggleable__label-arrow:before {content: \"▾\";}#sk-container-id-1 div.sk-estimator input.sk-toggleable__control:checked~label.sk-toggleable__label {background-color: #d4ebff;}#sk-container-id-1 div.sk-label input.sk-toggleable__control:checked~label.sk-toggleable__label {background-color: #d4ebff;}#sk-container-id-1 input.sk-hidden--visually {border: 0;clip: rect(1px 1px 1px 1px);clip: rect(1px, 1px, 1px, 1px);height: 1px;margin: -1px;overflow: hidden;padding: 0;position: absolute;width: 1px;}#sk-container-id-1 div.sk-estimator {font-family: monospace;background-color: #f0f8ff;border: 1px dotted black;border-radius: 0.25em;box-sizing: border-box;margin-bottom: 0.5em;}#sk-container-id-1 div.sk-estimator:hover {background-color: #d4ebff;}#sk-container-id-1 div.sk-parallel-item::after {content: \"\";width: 100%;border-bottom: 1px solid gray;flex-grow: 1;}#sk-container-id-1 div.sk-label:hover label.sk-toggleable__label {background-color: #d4ebff;}#sk-container-id-1 div.sk-serial::before {content: \"\";position: absolute;border-left: 1px solid gray;box-sizing: border-box;top: 0;bottom: 0;left: 50%;z-index: 0;}#sk-container-id-1 div.sk-serial {display: flex;flex-direction: column;align-items: center;background-color: white;padding-right: 0.2em;padding-left: 0.2em;position: relative;}#sk-container-id-1 div.sk-item {position: relative;z-index: 1;}#sk-container-id-1 div.sk-parallel {display: flex;align-items: stretch;justify-content: center;background-color: white;position: relative;}#sk-container-id-1 div.sk-item::before, #sk-container-id-1 div.sk-parallel-item::before {content: \"\";position: absolute;border-left: 1px solid gray;box-sizing: border-box;top: 0;bottom: 0;left: 50%;z-index: -1;}#sk-container-id-1 div.sk-parallel-item {display: flex;flex-direction: column;z-index: 1;position: relative;background-color: white;}#sk-container-id-1 div.sk-parallel-item:first-child::after {align-self: flex-end;width: 50%;}#sk-container-id-1 div.sk-parallel-item:last-child::after {align-self: flex-start;width: 50%;}#sk-container-id-1 div.sk-parallel-item:only-child::after {width: 0;}#sk-container-id-1 div.sk-dashed-wrapped {border: 1px dashed gray;margin: 0 0.4em 0.5em 0.4em;box-sizing: border-box;padding-bottom: 0.4em;background-color: white;}#sk-container-id-1 div.sk-label label {font-family: monospace;font-weight: bold;display: inline-block;line-height: 1.2em;}#sk-container-id-1 div.sk-label-container {text-align: center;}#sk-container-id-1 div.sk-container {/* jupyter's `normalize.less` sets `[hidden] { display: none; }` but bootstrap.min.css set `[hidden] { display: none !important; }` so we also need the `!important` here to be able to override the default hidden behavior on the sphinx rendered scikit-learn.org. See: https://github.com/scikit-learn/scikit-learn/issues/21755 */display: inline-block !important;position: relative;}#sk-container-id-1 div.sk-text-repr-fallback {display: none;}</style><div id=\"sk-container-id-1\" class=\"sk-top-container\"><div class=\"sk-text-repr-fallback\"><pre>XGBClassifier(base_score=None, booster=None, callbacks=None,\n",
              "              colsample_bylevel=None, colsample_bynode=None,\n",
              "              colsample_bytree=None, device=None, early_stopping_rounds=None,\n",
              "              enable_categorical=False, eval_metric=None, feature_types=None,\n",
              "              gamma=None, grow_policy=None, importance_type=None,\n",
              "              interaction_constraints=None, learning_rate=0.5, max_bin=None,\n",
              "              max_cat_threshold=None, max_cat_to_onehot=None,\n",
              "              max_delta_step=None, max_depth=10, max_leaves=None,\n",
              "              min_child_weight=None, missing=nan, monotone_constraints=None,\n",
              "              multi_strategy=None, n_estimators=1500, n_jobs=None,\n",
              "              num_parallel_tree=None, random_state=123, ...)</pre><b>In a Jupyter environment, please rerun this cell to show the HTML representation or trust the notebook. <br />On GitHub, the HTML representation is unable to render, please try loading this page with nbviewer.org.</b></div><div class=\"sk-container\" hidden><div class=\"sk-item\"><div class=\"sk-estimator sk-toggleable\"><input class=\"sk-toggleable__control sk-hidden--visually\" id=\"sk-estimator-id-1\" type=\"checkbox\" checked><label for=\"sk-estimator-id-1\" class=\"sk-toggleable__label sk-toggleable__label-arrow\">XGBClassifier</label><div class=\"sk-toggleable__content\"><pre>XGBClassifier(base_score=None, booster=None, callbacks=None,\n",
              "              colsample_bylevel=None, colsample_bynode=None,\n",
              "              colsample_bytree=None, device=None, early_stopping_rounds=None,\n",
              "              enable_categorical=False, eval_metric=None, feature_types=None,\n",
              "              gamma=None, grow_policy=None, importance_type=None,\n",
              "              interaction_constraints=None, learning_rate=0.5, max_bin=None,\n",
              "              max_cat_threshold=None, max_cat_to_onehot=None,\n",
              "              max_delta_step=None, max_depth=10, max_leaves=None,\n",
              "              min_child_weight=None, missing=nan, monotone_constraints=None,\n",
              "              multi_strategy=None, n_estimators=1500, n_jobs=None,\n",
              "              num_parallel_tree=None, random_state=123, ...)</pre></div></div></div></div></div>"
            ]
          },
          "metadata": {},
          "execution_count": 25
        }
      ]
    },
    {
      "cell_type": "code",
      "source": [
        "y_xgbCl = xgbCl.predict(X_test)"
      ],
      "metadata": {
        "id": "FsqA7exoHPdV"
      },
      "execution_count": null,
      "outputs": []
    },
    {
      "cell_type": "code",
      "source": [
        "print('Classification Report XGBoost:')\n",
        "print(classification_report(y_test, y_xgbCl))\n",
        "\n",
        "# Confusion Matrix\n",
        "cm_xgbCl = confusion_matrix(y_test, y_xgbCl)\n",
        "\n",
        "print(cm_xgbCl, '\\n')\n",
        "ConfusionMatrixDisplay(confusion_matrix=cm_xgbCl).plot();"
      ],
      "metadata": {
        "colab": {
          "base_uri": "https://localhost:8080/",
          "height": 675
        },
        "id": "Ik1t_sS8HPbH",
        "outputId": "7e992485-2c8f-4b2e-e16b-6fe6ed5f54b2"
      },
      "execution_count": null,
      "outputs": [
        {
          "output_type": "stream",
          "name": "stdout",
          "text": [
            "Classification Report XGBoost:\n",
            "              precision    recall  f1-score   support\n",
            "\n",
            "           0       0.94      0.96      0.95     22047\n",
            "           1       0.22      0.15      0.18      1557\n",
            "\n",
            "    accuracy                           0.91     23604\n",
            "   macro avg       0.58      0.56      0.57     23604\n",
            "weighted avg       0.89      0.91      0.90     23604\n",
            "\n",
            "[[21216   831]\n",
            " [ 1322   235]] \n",
            "\n"
          ]
        },
        {
          "output_type": "display_data",
          "data": {
            "text/plain": [
              "<Figure size 640x480 with 2 Axes>"
            ],
            "image/png": "[encoded data removed]"
          },
          "metadata": {}
        }
      ]
    },
    {
      "cell_type": "code",
      "source": [
        "'''\n",
        "## Cross validation SVM\n",
        "from sklearn.model_selection import GridSearchCV\n",
        "\n",
        "grid_param_svm = {'kernel':['linear', 'rbf'],\n",
        "               'C':[0.0001, 1, 10],\n",
        "               'gamma':[1, 10, 100]}\n",
        "\n",
        "grid_search_svm = GridSearchCV(SVC(), grid_param_svm, cv=5)\n",
        "\n",
        "grid_search_svm.fit(X_train_smote, y_train_smote)\n",
        "'''"
      ],
      "metadata": {
        "colab": {
          "base_uri": "https://localhost:8080/",
          "height": 70
        },
        "id": "6iZ1oaeB3OMn",
        "outputId": "f1bc183c-348b-4d19-9dd6-24280ed952cc"
      },
      "execution_count": null,
      "outputs": [
        {
          "output_type": "execute_result",
          "data": {
            "text/plain": [
              "\"\\n## Cross validation SVM\\nfrom sklearn.model_selection import GridSearchCV\\n\\ngrid_param_svm = {'kernel':['linear', 'rbf'], \\n               'C':[0.0001, 1, 10], \\n               'gamma':[1, 10, 100]}\\n\\ngrid_search_svm = GridSearchCV(SVC(), grid_param_svm, cv=5) \\n\\ngrid_search_svm.fit(X_train_smote, y_train_smote)\\n\""
            ],
            "application/vnd.google.colaboratory.intrinsic+json": {
              "type": "string"
            }
          },
          "metadata": {},
          "execution_count": 28
        }
      ]
    },
    {
      "cell_type": "code",
      "source": [
        "## Support Vector Machine\n",
        "svc = SVC(C=10,\n",
        "          gamma=10,\n",
        "          kernel='rbf',\n",
        "          random_state=123)\n",
        "\n",
        "svc.fit(X_train_smote, y_train_smote)"
      ],
      "metadata": {
        "id": "M6A4_kteooYY",
        "colab": {
          "base_uri": "https://localhost:8080/",
          "height": 75
        },
        "outputId": "51868602-a99d-4e53-dcdb-d47f690f9a9e"
      },
      "execution_count": null,
      "outputs": [
        {
          "output_type": "execute_result",
          "data": {
            "text/plain": [
              "SVC(C=10, gamma=10, random_state=123)"
            ],
            "text/html": [
              "<style>#sk-container-id-3 {color: black;background-color: white;}#sk-container-id-3 pre{padding: 0;}#sk-container-id-3 div.sk-toggleable {background-color: white;}#sk-container-id-3 label.sk-toggleable__label {cursor: pointer;display: block;width: 100%;margin-bottom: 0;padding: 0.3em;box-sizing: border-box;text-align: center;}#sk-container-id-3 label.sk-toggleable__label-arrow:before {content: \"▸\";float: left;margin-right: 0.25em;color: #696969;}#sk-container-id-3 label.sk-toggleable__label-arrow:hover:before {color: black;}#sk-container-id-3 div.sk-estimator:hover label.sk-toggleable__label-arrow:before {color: black;}#sk-container-id-3 div.sk-toggleable__content {max-height: 0;max-width: 0;overflow: hidden;text-align: left;background-color: #f0f8ff;}#sk-container-id-3 div.sk-toggleable__content pre {margin: 0.2em;color: black;border-radius: 0.25em;background-color: #f0f8ff;}#sk-container-id-3 input.sk-toggleable__control:checked~div.sk-toggleable__content {max-height: 200px;max-width: 100%;overflow: auto;}#sk-container-id-3 input.sk-toggleable__control:checked~label.sk-toggleable__label-arrow:before {content: \"▾\";}#sk-container-id-3 div.sk-estimator input.sk-toggleable__control:checked~label.sk-toggleable__label {background-color: #d4ebff;}#sk-container-id-3 div.sk-label input.sk-toggleable__control:checked~label.sk-toggleable__label {background-color: #d4ebff;}#sk-container-id-3 input.sk-hidden--visually {border: 0;clip: rect(1px 1px 1px 1px);clip: rect(1px, 1px, 1px, 1px);height: 1px;margin: -1px;overflow: hidden;padding: 0;position: absolute;width: 1px;}#sk-container-id-3 div.sk-estimator {font-family: monospace;background-color: #f0f8ff;border: 1px dotted black;border-radius: 0.25em;box-sizing: border-box;margin-bottom: 0.5em;}#sk-container-id-3 div.sk-estimator:hover {background-color: #d4ebff;}#sk-container-id-3 div.sk-parallel-item::after {content: \"\";width: 100%;border-bottom: 1px solid gray;flex-grow: 1;}#sk-container-id-3 div.sk-label:hover label.sk-toggleable__label {background-color: #d4ebff;}#sk-container-id-3 div.sk-serial::before {content: \"\";position: absolute;border-left: 1px solid gray;box-sizing: border-box;top: 0;bottom: 0;left: 50%;z-index: 0;}#sk-container-id-3 div.sk-serial {display: flex;flex-direction: column;align-items: center;background-color: white;padding-right: 0.2em;padding-left: 0.2em;position: relative;}#sk-container-id-3 div.sk-item {position: relative;z-index: 1;}#sk-container-id-3 div.sk-parallel {display: flex;align-items: stretch;justify-content: center;background-color: white;position: relative;}#sk-container-id-3 div.sk-item::before, #sk-container-id-3 div.sk-parallel-item::before {content: \"\";position: absolute;border-left: 1px solid gray;box-sizing: border-box;top: 0;bottom: 0;left: 50%;z-index: -1;}#sk-container-id-3 div.sk-parallel-item {display: flex;flex-direction: column;z-index: 1;position: relative;background-color: white;}#sk-container-id-3 div.sk-parallel-item:first-child::after {align-self: flex-end;width: 50%;}#sk-container-id-3 div.sk-parallel-item:last-child::after {align-self: flex-start;width: 50%;}#sk-container-id-3 div.sk-parallel-item:only-child::after {width: 0;}#sk-container-id-3 div.sk-dashed-wrapped {border: 1px dashed gray;margin: 0 0.4em 0.5em 0.4em;box-sizing: border-box;padding-bottom: 0.4em;background-color: white;}#sk-container-id-3 div.sk-label label {font-family: monospace;font-weight: bold;display: inline-block;line-height: 1.2em;}#sk-container-id-3 div.sk-label-container {text-align: center;}#sk-container-id-3 div.sk-container {/* jupyter's `normalize.less` sets `[hidden] { display: none; }` but bootstrap.min.css set `[hidden] { display: none !important; }` so we also need the `!important` here to be able to override the default hidden behavior on the sphinx rendered scikit-learn.org. See: https://github.com/scikit-learn/scikit-learn/issues/21755 */display: inline-block !important;position: relative;}#sk-container-id-3 div.sk-text-repr-fallback {display: none;}</style><div id=\"sk-container-id-3\" class=\"sk-top-container\"><div class=\"sk-text-repr-fallback\"><pre>SVC(C=10, gamma=10, random_state=123)</pre><b>In a Jupyter environment, please rerun this cell to show the HTML representation or trust the notebook. <br />On GitHub, the HTML representation is unable to render, please try loading this page with nbviewer.org.</b></div><div class=\"sk-container\" hidden><div class=\"sk-item\"><div class=\"sk-estimator sk-toggleable\"><input class=\"sk-toggleable__control sk-hidden--visually\" id=\"sk-estimator-id-3\" type=\"checkbox\" checked><label for=\"sk-estimator-id-3\" class=\"sk-toggleable__label sk-toggleable__label-arrow\">SVC</label><div class=\"sk-toggleable__content\"><pre>SVC(C=10, gamma=10, random_state=123)</pre></div></div></div></div></div>"
            ]
          },
          "metadata": {},
          "execution_count": 34
        }
      ]
    },
    {
      "cell_type": "code",
      "source": [
        "y_svc = svc.predict(X_test)"
      ],
      "metadata": {
        "id": "fSfBxB9j7HQq"
      },
      "execution_count": null,
      "outputs": []
    },
    {
      "cell_type": "code",
      "source": [
        "print('Classification Report SVM:')\n",
        "print(classification_report(y_test, y_svc))\n",
        "\n",
        "# Confusion Matrix\n",
        "cm_svc = confusion_matrix(y_test, y_svc)\n",
        "print(cm_svc, '\\n')\n",
        "sns.heatmap(cm_svc, annot=True, fmt='d')\n",
        "plt.show()"
      ],
      "metadata": {
        "colab": {
          "base_uri": "https://localhost:8080/",
          "height": 656
        },
        "id": "fUBOUPcZ7DZH",
        "outputId": "f8ce8efa-1fa4-4ded-d6ac-4128bf341255"
      },
      "execution_count": null,
      "outputs": [
        {
          "output_type": "stream",
          "name": "stdout",
          "text": [
            "Classification Report SVM:\n",
            "              precision    recall  f1-score   support\n",
            "\n",
            "           0       0.93      1.00      0.97     22047\n",
            "           1       0.00      0.00      0.00      1557\n",
            "\n",
            "    accuracy                           0.93     23604\n",
            "   macro avg       0.47      0.50      0.48     23604\n",
            "weighted avg       0.87      0.93      0.90     23604\n",
            "\n",
            "[[22047     0]\n",
            " [ 1557     0]] \n",
            "\n"
          ]
        },
        {
          "output_type": "display_data",
          "data": {
            "text/plain": [
              "<Figure size 640x480 with 2 Axes>"
            ],
            "image/png": "[encoded data removed]"
          },
          "metadata": {}
        }
      ]
    },
    {
      "cell_type": "markdown",
      "source": [
        "Final comments:\n",
        "- Getting financial ratios and using them for classification models does not provide accuracy in the metrics, at least in 1. Could be metter maintain inicial features.\n",
        "- It could be improved with cross validation and/or appying other clasiffication models."
      ],
      "metadata": {
        "id": "KtMEB8DUOxpk"
      }
    }
  ]
}